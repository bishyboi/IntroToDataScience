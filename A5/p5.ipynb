{
 "cells": [
  {
   "cell_type": "code",
   "execution_count": 1,
   "metadata": {},
   "outputs": [],
   "source": [
    "import numpy as np\n",
    "import pandas as pd"
   ]
  },
  {
   "cell_type": "code",
   "execution_count": 2,
   "metadata": {},
   "outputs": [
    {
     "data": {
      "text/plain": [
       "SVDResult(U=array([[-0.45197518, -0.43798557,  0.45624065,  0.4424184 , -0.44721081],\n",
       "       [-0.33598188,  0.50576762,  0.36572951,  0.38061464,  0.59387684],\n",
       "       [-0.49527113,  0.31064884,  0.26916373, -0.72471784, -0.24604621],\n",
       "       [-0.45736589,  0.33648628, -0.70831683,  0.2949456 , -0.29814054],\n",
       "       [-0.47786773, -0.58535633, -0.28969733, -0.21723165,  0.54578958]]), S=array([17.92667464,  4.69961929,  0.74021274]), Vh=array([[-0.67951483, -0.46416725, -0.56816227],\n",
       "       [-0.12142611, -0.6925865 ,  0.71104124],\n",
       "       [ 0.72354357, -0.5521528 , -0.41426077]]))"
      ]
     },
     "execution_count": 2,
     "metadata": {},
     "output_type": "execute_result"
    }
   ],
   "source": [
    "A = np.array([[6, 5, 3],\n",
    "              [4, 1, 5],\n",
    "              [6, 3, 6],\n",
    "              [5, 3, 6],\n",
    "              [6, 6, 3]])\n",
    "\n",
    "singular = np.linalg.svd(A)\n",
    "\n",
    "singular"
   ]
  }
 ],
 "metadata": {
  "kernelspec": {
   "display_name": "Python 3.12.3 64-bit (microsoft store)",
   "language": "python",
   "name": "python3"
  },
  "language_info": {
   "codemirror_mode": {
    "name": "ipython",
    "version": 3
   },
   "file_extension": ".py",
   "mimetype": "text/x-python",
   "name": "python",
   "nbconvert_exporter": "python",
   "pygments_lexer": "ipython3",
   "version": "3.12.3"
  },
  "orig_nbformat": 4,
  "vscode": {
   "interpreter": {
    "hash": "fef1a6e9a9ce846f2cfb3b2b42e5a58dcb14c38e4b0db907c310daacbc2a1d22"
   }
  }
 },
 "nbformat": 4,
 "nbformat_minor": 2
}
