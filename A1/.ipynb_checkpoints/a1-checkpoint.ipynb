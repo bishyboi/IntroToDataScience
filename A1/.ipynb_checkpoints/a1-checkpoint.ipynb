{
 "cells": [
  {
   "cell_type": "markdown",
   "metadata": {},
   "source": [
    "Importing the necessary libraries"
   ]
  },
  {
   "cell_type": "code",
   "execution_count": null,
   "metadata": {},
   "outputs": [],
   "source": [
    "from matplotlib import pyplot as plt\n",
    "import pandas as pd\n",
    "import numpy as np\n",
    "from mpl_toolkits.mplot3d import Axes3D\n",
    "from math import sqrt"
   ]
  },
  {
   "cell_type": "markdown",
   "metadata": {},
   "source": [
    "Problem 2)"
   ]
  },
  {
   "cell_type": "code",
   "execution_count": null,
   "metadata": {},
   "outputs": [],
   "source": [
    "data = pd.read_csv(\"lin_df.csv\", index_col=0)\n",
    "\n",
    "x = data[\"X\"].to_numpy()\n",
    "y = data[\"Y\"].to_numpy()\n",
    "\n",
    "# Plotting all data points\n",
    "plt.scatter(x,y)\n",
    "\n",
    "# Calculating the terms in the formula\n",
    "x_mean = np.average(x)\n",
    "y_mean = np.average(y)\n",
    "\n",
    "xy_mean = np.average(x*y)\n",
    "x_squared_mean = np.average(x*x)\n",
    "\n",
    "# Less calculations to solve theta one first, because rearranging vars shows y_mean - theta_one * x_mean = theta_nought\n",
    "theta_one = (xy_mean - (x_mean*y_mean)) / (x_squared_mean - x_mean**2)\n",
    "theta_nought = y_mean - theta_one*x_mean\n",
    "\n",
    "print(f\"Linear function: y = {theta_nought:.2f}+ {theta_one:.2f}x\")\n",
    "\n",
    "# Plotting the linear regression following y = theta_nought + theta_one*x\n",
    "linear_x = np.linspace(0, 15, 2)\n",
    "plt.plot(linear_x, theta_nought + theta_one*linear_x, color = \"red\")\n",
    "\n",
    "# Show the plot\n",
    "plt.show()\n"
   ]
  },
  {
   "cell_type": "markdown",
   "metadata": {},
   "source": [
    "Problem 3)"
   ]
  },
  {
   "cell_type": "code",
   "execution_count": null,
   "metadata": {},
   "outputs": [],
   "source": [
    "\n",
    "data = pd.read_csv(\"nonlin_df.csv\", index_col=0)\n",
    "\n",
    "x = data[\"X\"].to_numpy()\n",
    "y = data[\"Y\"].to_numpy()\n",
    "\n",
    "# Plotting all data points\n",
    "plt.scatter(x,y)\n",
    "\n",
    "# Calculating the terms in the formula\n",
    "x_mean = np.average(x)\n",
    "y_mean = np.average(y)\n",
    "\n",
    "xy_mean = np.average(x*y)\n",
    "x_squared_mean = np.average(x*x)\n",
    "\n",
    "# Less calculations to solve theta one first, because rearranging vars shows y_mean - theta_one * x_mean = theta_nought\n",
    "theta_one = (xy_mean - (x_mean*y_mean)) / (x_squared_mean - x_mean**2)\n",
    "theta_nought = y_mean - theta_one*x_mean\n",
    "\n",
    "# Plotting the linear regression following y = theta_nought + theta_one*x\n",
    "linear_x = np.linspace(0, 15, 2)\n",
    "plt.plot(linear_x, theta_nought + theta_one*linear_x, color = \"red\")\n",
    "\n",
    "# Plotting y = x^2.5\n",
    "linear_x = np.linspace(0,15,1000)\n",
    "plt.plot(linear_x, linear_x**2.5, \"magenta\")\n",
    "\n",
    "# Show the plot\n",
    "plt.show()"
   ]
  },
  {
   "cell_type": "markdown",
   "metadata": {},
   "source": [
    "Problem 4)"
   ]
  },
  {
   "cell_type": "code",
   "execution_count": null,
   "metadata": {},
   "outputs": [],
   "source": [
    "def distance(coor1: pd.DataFrame, row: pd.DataFrame):\n",
    "    inner_product = 0\n",
    "\n",
    "    for col in [\"X\", \"Y\"]:\n",
    "        inner_product += (coor1[col] - row[col])**2\n",
    "\n",
    "    return sqrt(inner_product)\n"
   ]
  },
  {
   "cell_type": "code",
   "execution_count": null,
   "metadata": {},
   "outputs": [],
   "source": [
    "def get_k_nearest_neighbors_point(k: int, coor_index: int, data: pd.DataFrame):\n",
    "    current_coor = data.iloc[coor_index]\n",
    "\n",
    "    new_data = data\n",
    "    new_data = new_data.drop(coor_index)\n",
    "\n",
    "    new_data[\"distance\"] = new_data.apply(\n",
    "        lambda row: distance(current_coor, row), axis=\"columns\")\n",
    "\n",
    "    new_data = new_data.sort_values(by=\"distance\")\n",
    "    new_data = new_data.head(k)\n",
    "\n",
    "    k_coordinate = {\"X\": new_data[\"X\"].mean(), \"Y\": new_data[\"Y\"].mean()}\n",
    "\n",
    "    return k_coordinate"
   ]
  },
  {
   "cell_type": "code",
   "execution_count": null,
   "metadata": {},
   "outputs": [],
   "source": [
    "def generate_knn_regression(k, data: pd.DataFrame):\n",
    "    knn_data = pd.DataFrame({\"X\": [], \"Y\": []})\n",
    "\n",
    "    for i in range(len(data)):\n",
    "        knn_data.loc[len(knn_data)] = get_k_nearest_neighbors_point(k, i, data)\n",
    "\n",
    "    return knn_data.sort_values(by=\"X\")"
   ]
  },
  {
   "cell_type": "code",
   "execution_count": null,
   "metadata": {},
   "outputs": [],
   "source": [
    "data = pd.read_csv(\"nonlin_df.csv\", index_col=0)\n",
    "plt.scatter(data[\"X\"], data[\"Y\"])\n",
    "\n",
    "k_values = [4, 8, 16]\n",
    "\n",
    "for k in k_values:\n",
    "    knn_data = generate_knn_regression(k, data)\n",
    "    plt.plot(knn_data[\"X\"], knn_data[\"Y\"], label=f\"k = {k}\")\n",
    "\n",
    "plt.legend()\n",
    "plt.show()"
   ]
  },
  {
   "cell_type": "markdown",
   "metadata": {},
   "source": [
    "Problem 5)"
   ]
  },
  {
   "cell_type": "code",
   "execution_count": null,
   "metadata": {},
   "outputs": [],
   "source": [
    "\n",
    "data = pd.read_csv(\"lin_df.csv\", index_col=0)\n",
    "\n",
    "x = data[\"X\"].to_numpy()\n",
    "y = data[\"Y\"].to_numpy()\n",
    "\n",
    "# Calculating the terms in the formula\n",
    "x_mean = np.average(x)\n",
    "y_mean = np.average(y)\n",
    "\n",
    "xy_mean = np.average(x*y)\n",
    "x_squared_mean = np.average(x*x)\n",
    "y_squared_mean = np.average(y*y)\n",
    "\n",
    "bound = 15\n",
    "detail = 0.05\n",
    "\n",
    "theta_0 = np.arange(-bound,bound, detail)\n",
    "theta_1 = np.arange(-bound, bound, detail)\n",
    "\n",
    "theta_0, theta_1 = np.meshgrid(theta_0, theta_1)\n",
    "\n",
    "z =( y_squared_mean\n",
    "    - 2*theta_0*y_mean \n",
    "    - 2*theta_1*xy_mean \n",
    "    + theta_0**2 \n",
    "    + 2*theta_0*theta_1*x_mean \n",
    "    + (theta_1**2) * (theta_1**2))\n",
    "\n",
    "\n",
    "min_index = np.unravel_index(np.argmin(z), z.shape)\n",
    "\n",
    "# Extract the corresponding theta_0 and theta_1 values\n",
    "min_theta_0 = theta_0[min_index]\n",
    "min_theta_1 = theta_1[min_index]\n",
    "\n",
    "# Print the coordinates of the minimum z value\n",
    "print(\"Coordinates of the minimum z value:\")\n",
    "print(\"Theta_0:\", min_theta_0)\n",
    "print(\"Theta_1:\", min_theta_1)\n",
    "\n",
    "# Create a 3D figure\n",
    "fig = plt.figure()\n",
    "ax = fig.add_subplot(111, projection='3d')\n",
    "\n",
    "# Plot the surface\n",
    "surf = ax.plot_surface(theta_0, theta_1, z, cmap = \"viridis\")\n",
    "\n",
    "\n",
    "# Plot the minimum point as a red dot\n",
    "ax.scatter(min_theta_0, min_theta_1, np.min(z) , color='red', s=100, label='Minimum')\n",
    "\n",
    "\n",
    "# Add labels and title\n",
    "ax.set_xlabel('Theta Nought')\n",
    "ax.set_ylabel('Theta One')\n",
    "ax.set_zlabel('h(theta_0, theta_1)')\n",
    "ax.set_title('Surface Plot')\n",
    "\n",
    "# Add a color bar which maps values to colors\n",
    "fig.colorbar(surf, shrink=0.5, aspect=5)\n",
    "\n",
    "plt.legend()\n",
    "plt.show()"
   ]
  },
  {
   "cell_type": "markdown",
   "metadata": {},
   "source": [
    "Problem 6)"
   ]
  },
  {
   "cell_type": "code",
   "execution_count": null,
   "metadata": {},
   "outputs": [],
   "source": [
    "\n",
    "bound = 15\n",
    "detail = 0.05\n",
    "\n",
    "theta_0 = np.arange(-bound,bound, detail)\n",
    "theta_1 = np.arange(-bound, bound, detail)\n",
    "\n",
    "theta_0, theta_1 = np.meshgrid(theta_0, theta_1)\n",
    "\n",
    "z = theta_0**2 - theta_1**2\n",
    "\n",
    "# Create a 3D figure\n",
    "fig = plt.figure()\n",
    "ax = fig.add_subplot(111, projection='3d')\n",
    "\n",
    "# Plot the surface\n",
    "surf = ax.plot_surface(theta_0, theta_1, z, cmap = \"viridis\")\n",
    "\n",
    "# Add labels and title\n",
    "ax.set_xlabel('Theta Nought')\n",
    "ax.set_ylabel('Theta One')\n",
    "ax.set_zlabel('g(theta_0, theta_1)')\n",
    "ax.set_title('Surface Plot')\n",
    "\n",
    "# Add a color bar which maps values to colors\n",
    "fig.colorbar(surf, shrink=0.5, aspect=5)\n",
    "\n",
    "plt.show()"
   ]
  }
 ],
 "metadata": {
  "kernelspec": {
   "display_name": "Python 3.11.7 64-bit (microsoft store)",
   "language": "python",
   "name": "python3"
  },
  "language_info": {
   "codemirror_mode": {
    "name": "ipython",
    "version": 3
   },
   "file_extension": ".py",
   "mimetype": "text/x-python",
   "name": "python",
   "nbconvert_exporter": "python",
   "pygments_lexer": "ipython3",
   "version": "3.11.7"
  },
  "orig_nbformat": 4,
  "vscode": {
   "interpreter": {
    "hash": "6eedd21a9b364dcbc008bc7a16accc26ac1a0cde10f711438c4289a3ba1a13b5"
   }
  }
 },
 "nbformat": 4,
 "nbformat_minor": 2
}
