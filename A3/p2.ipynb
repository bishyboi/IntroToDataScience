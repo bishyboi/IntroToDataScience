{
 "cells": [
  {
   "cell_type": "markdown",
   "metadata": {},
   "source": [
    "# Part 2"
   ]
  },
  {
   "cell_type": "code",
   "execution_count": 96,
   "metadata": {},
   "outputs": [],
   "source": [
    "import pandas as pd\n",
    "import numpy as np\n",
    "import matplotlib.pyplot as plt\n",
    "\n",
    "from sklearn.datasets import fetch_openml\n",
    "mnist = fetch_openml('mnist_784', version = 1)\n",
    "mnist.keys()\n",
    "\n",
    "X, y = mnist[\"data\"], mnist[\"target\"]\n",
    "\n",
    "X = X.to_numpy()\n",
    "y = y.astype(np.uint8)"
   ]
  },
  {
   "cell_type": "markdown",
   "metadata": {},
   "source": [
    "Get training and testing data from MNIST dataset"
   ]
  },
  {
   "cell_type": "code",
   "execution_count": 97,
   "metadata": {},
   "outputs": [],
   "source": [
    "X_train, X_test, y_train, y_test = X[:60000], X[60000:], y[:60000], y[60000:]"
   ]
  },
  {
   "cell_type": "markdown",
   "metadata": {},
   "source": [
    "Create a class that will separate the data into 3v5, 3vOther, 5vOther; as well as train the three different classifiers on this data"
   ]
  },
  {
   "cell_type": "code",
   "execution_count": 98,
   "metadata": {},
   "outputs": [],
   "source": [
    "from sklearn.linear_model import SGDClassifier\n",
    "import random\n",
    "\n",
    "\n",
    "class SGD_3v5vO_clf:\n",
    "    X_train = None\n",
    "    X_train_3v5 = None\n",
    "\n",
    "    y_train = None\n",
    "    y_train_3v5_3 = None\n",
    "    y_train_3vO_3 = None\n",
    "    y_train_5vO_5 = None\n",
    "\n",
    "    loss_method = \"log_loss\"\n",
    "\n",
    "    sgd_3v5_clf = SGDClassifier(random_state=42, loss=loss_method)\n",
    "    sgd_3vO_clf = SGDClassifier(random_state=42, loss=loss_method)\n",
    "    sgd_5vO_clf = SGDClassifier(random_state=42, loss=loss_method)\n",
    "\n",
    "    def __init__(self, X_train, y_train):\n",
    "        self.X_train = X_train\n",
    "        self.y_train = y_train\n",
    "\n",
    "        y_train_3v5 = y_train[(y_train == 3) | (y_train == 5)]\n",
    "\n",
    "        self.y_train_3v5_3 = y_train_3v5 == 3\n",
    "        self.X_train_3v5 = X_train[(y_train == 3) | (y_train == 5)]\n",
    "\n",
    "        self.y_train_3vO_3 = y_train == 3\n",
    "        self.y_train_5vO_5 = y_train == 5\n",
    "\n",
    "    def fit(self):\n",
    "        self.sgd_3v5_clf.fit(self.X_train_3v5, self.y_train_3v5_3)\n",
    "        self.sgd_3vO_clf.fit(self.X_train, self.y_train_3vO_3)\n",
    "        self.sgd_5vO_clf.fit(self.X_train, self.y_train_5vO_5)\n",
    "\n",
    "    def predict(self, X):\n",
    "        three = 0\n",
    "        five = 0\n",
    "        other = 0\n",
    "\n",
    "        if self.sgd_3v5_clf.predict(X)[0]:\n",
    "            three += 1\n",
    "        else:\n",
    "            five += 1\n",
    "\n",
    "        if self.sgd_5vO_clf.predict(X)[0]:\n",
    "            five += 1\n",
    "        else:\n",
    "            other += 1\n",
    "\n",
    "        if self.sgd_3vO_clf.predict(X)[0]:\n",
    "            three += 1\n",
    "        else:\n",
    "            other += 1\n",
    "\n",
    "        if three == five == other:\n",
    "            return random.choice([\"3\", \"5\", \"Other\"])\n",
    "\n",
    "        elif three == 2:\n",
    "            return \"3\"\n",
    "        elif five == 2:\n",
    "            return \"5\"\n",
    "        else:\n",
    "            return \"Other\"\n"
   ]
  },
  {
   "cell_type": "code",
   "execution_count": 99,
   "metadata": {},
   "outputs": [],
   "source": [
    "multi_clf = SGD_3v5vO_clf(X_train, y_train)\n",
    "multi_clf.fit()"
   ]
  },
  {
   "cell_type": "markdown",
   "metadata": {},
   "source": [
    "Demonstration of the Predict function"
   ]
  },
  {
   "cell_type": "code",
   "execution_count": 100,
   "metadata": {},
   "outputs": [
    {
     "data": {
      "image/png": "[encoded data removed]",
      "text/plain": [
       "<Figure size 300x300 with 1 Axes>"
      ]
     },
     "metadata": {},
     "output_type": "display_data"
    },
    {
     "data": {
      "image/png": "[encoded data removed]",
      "text/plain": [
       "<Figure size 300x300 with 1 Axes>"
      ]
     },
     "metadata": {},
     "output_type": "display_data"
    },
    {
     "data": {
      "image/png": "[encoded data removed]",
      "text/plain": [
       "<Figure size 300x300 with 1 Axes>"
      ]
     },
     "metadata": {},
     "output_type": "display_data"
    },
    {
     "data": {
      "image/png": "[encoded data removed]",
      "text/plain": [
       "<Figure size 300x300 with 1 Axes>"
      ]
     },
     "metadata": {},
     "output_type": "display_data"
    }
   ],
   "source": [
    "digit_5 = X[0]\n",
    "digit_0 = X[3]\n",
    "digit_3 = X[7]\n",
    "question_digit = X_test[8]\n",
    "\n",
    "all_digits = [digit_5, digit_0, digit_3, question_digit]\n",
    "\n",
    "for digit in all_digits:\n",
    "    digit_image = digit.reshape(28,28)\n",
    "    plt.figure(figsize=(3,3))\n",
    "    plt.imshow(digit_image, cmap=\"binary\")\n",
    "    plt.axis(\"off\")\n",
    "    plt.show()"
   ]
  },
  {
   "cell_type": "code",
   "execution_count": 101,
   "metadata": {},
   "outputs": [
    {
     "name": "stdout",
     "output_type": "stream",
     "text": [
      "Prediction: 5\n",
      "Prediction: Other\n",
      "Prediction: 3\n",
      "Prediction: Other\n"
     ]
    }
   ],
   "source": [
    "for digit in all_digits:\n",
    "    print(f\"Prediction: {multi_clf.predict(np.reshape(digit, (1,-1)))}\")\n",
    "\n"
   ]
  }
 ],
 "metadata": {
  "kernelspec": {
   "display_name": "Python 3.12.2 64-bit (microsoft store)",
   "language": "python",
   "name": "python3"
  },
  "language_info": {
   "codemirror_mode": {
    "name": "ipython",
    "version": 3
   },
   "file_extension": ".py",
   "mimetype": "text/x-python",
   "name": "python",
   "nbconvert_exporter": "python",
   "pygments_lexer": "ipython3",
   "version": "3.12.2"
  },
  "orig_nbformat": 4,
  "vscode": {
   "interpreter": {
    "hash": "fef1a6e9a9ce846f2cfb3b2b42e5a58dcb14c38e4b0db907c310daacbc2a1d22"
   }
  }
 },
 "nbformat": 4,
 "nbformat_minor": 2
}
